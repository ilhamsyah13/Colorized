{
 "cells": [
  {
   "cell_type": "code",
   "execution_count": 2,
   "id": "260ae2e9",
   "metadata": {},
   "outputs": [],
   "source": [
    "import numpy as np \n",
    "import cv2\n",
    "from ipywidgets import Button\n",
    "from tkinter import Tk, filedialog\n",
    "from IPython.display import clear_output, display"
   ]
  },
  {
   "cell_type": "code",
   "execution_count": 3,
   "id": "7f0098f4",
   "metadata": {},
   "outputs": [
    {
     "name": "stdout",
     "output_type": "stream",
     "text": [
      "('C:/Users/lenovo/Downloads/ff4130071ef4044a7c1cd8f7709b5ff0.jpg',)\n"
     ]
    }
   ],
   "source": [
    "def select_files(b):\n",
    "    clear_output()\n",
    "    root = Tk()\n",
    "    root.withdraw()\n",
    "    root.call('wm', 'attributes', '.', '-topmost', True) \n",
    "    b.files = filedialog.askopenfilename(multiple=True) \n",
    "    print(b.files) \n",
    "\n",
    "fileselect = Button(description=\"File select\")\n",
    "fileselect.on_click(select_files)\n",
    "\n",
    "display(fileselect)"
   ]
  },
  {
   "cell_type": "code",
   "execution_count": 4,
   "id": "d8731084",
   "metadata": {},
   "outputs": [],
   "source": [
    "net = cv2.dnn.readNetFromCaffe('./model/colorization_deploy_v2.prototxt','./model/colorization_release_v2.caffemodel')\n",
    "pts = np.load('./model/pts_in_hull.npy')\n",
    "\n",
    "\n",
    "class8 = net.getLayerId(\"class8_ab\")\n",
    "conv8 = net.getLayerId(\"conv8_313_rh\")\n",
    "pts = pts.transpose().reshape(2,313,1,1)\n",
    "\n",
    "net.getLayer(class8).blobs = [pts.astype(\"float32\")]\n",
    "net.getLayer(conv8).blobs = [np.full([1,313],2.606,dtype='float32')]"
   ]
  },
  {
   "cell_type": "code",
   "execution_count": null,
   "id": "3a8d355e",
   "metadata": {},
   "outputs": [],
   "source": [
    "files = fileselect.files\n",
    "image = cv2.imread(files[0])\n",
    "scaled = image.astype(\"float32\")/255.0\n",
    "lab = cv2.cvtColor(scaled,cv2.COLOR_BGR2LAB)\n",
    "\n",
    "\n",
    "resized = cv2.resize(lab,(224,224))\n",
    "L = cv2.split(lab)[0]\n",
    "L -= 50\n",
    "\n",
    "\n",
    "net.setInput(cv2.dnn.blobFromImage(L))\n",
    "ab = net.forward()[0, :, :, :].transpose((1,2,0))\n",
    "\n",
    "ab = cv2.resize(ab, (image.shape[1],image.shape[0]))\n",
    "\n",
    "L = cv2.split(lab)[0]\n",
    "colorized = np.concatenate((L[:,:,np.newaxis], ab), axis=2)\n",
    "\n",
    "colorized = cv2.cvtColor(colorized,cv2.COLOR_LAB2BGR)\n",
    "colorized = np.clip(colorized,0,1)\n",
    "colorized = (255 * colorized).astype(\"uint8\")\n",
    "\n",
    "# image = cv2.resize(image, (400, 400)) \n",
    "# colorized = cv2.resize(colorized, (400, 400)) \n",
    "hasil = cv2.imwrite('./rubah.png', colorized)\n",
    "\n",
    "cv2.imshow(\"Original\",image)\n",
    "cv2.imshow(\"Colorized\",colorized)\n",
    "\n",
    "cv2.waitKey(0)\n",
    "print(\"Image written to file-system : \",hasil)\n"
   ]
  },
  {
   "cell_type": "code",
   "execution_count": 6,
   "id": "2c6a68cb",
   "metadata": {},
   "outputs": [
    {
     "name": "stdout",
     "output_type": "stream",
     "text": [
      "Net loaded successfully\n",
      "\n",
      "Net contains:\n",
      "\t7 layers of type BatchNorm\n",
      "\t23 layers of type Convolution\n",
      "\t1 layers of type Deconvolution\n",
      "\t22 layers of type ReLU\n",
      "\t1 layers of type Scale\n",
      "\t1 layers of type Silence\n",
      "\t1 layers of type Softmax\n",
      "\t1 layers of type __NetInputLayer__\n"
     ]
    }
   ],
   "source": [
    "\n",
    "net = cv2.dnn.readNetFromCaffe('./model/colorization_deploy_v2.prototxt','./model/colorization_release_v2.caffemodel')\n",
    "\n",
    "if not net.empty():\n",
    " print('Net loaded successfully\\n')\n",
    "\n",
    "print('Net contains:')\n",
    "for t in net.getLayerTypes():\n",
    " print('\\t%d layers of type %s' % (net.getLayersCount(t), t))\n",
    "\n",
    "\n"
   ]
  },
  {
   "cell_type": "code",
   "execution_count": 75,
   "id": "3934e36c",
   "metadata": {},
   "outputs": [
    {
     "ename": "SystemError",
     "evalue": "<method 'getLayersShapes' of 'cv2.dnn_Net' objects> returned NULL without setting an error",
     "output_type": "error",
     "traceback": [
      "\u001b[1;31m---------------------------------------------------------------------------\u001b[0m",
      "\u001b[1;31mSystemError\u001b[0m                               Traceback (most recent call last)",
      "\u001b[1;32m<ipython-input-75-951bed5fca8b>\u001b[0m in \u001b[0;36m<module>\u001b[1;34m\u001b[0m\n\u001b[1;32m----> 1\u001b[1;33m \u001b[0mlayers_ids\u001b[0m\u001b[1;33m,\u001b[0m \u001b[0min_shapes\u001b[0m\u001b[1;33m,\u001b[0m \u001b[0mout_shapes\u001b[0m \u001b[1;33m=\u001b[0m \u001b[0mnet\u001b[0m\u001b[1;33m.\u001b[0m\u001b[0mgetLayersShapes\u001b[0m\u001b[1;33m(\u001b[0m\u001b[1;33m[\u001b[0m\u001b[1;36m1\u001b[0m\u001b[1;33m,\u001b[0m \u001b[1;36m1\u001b[0m\u001b[1;33m,\u001b[0m \u001b[1;33m(\u001b[0m\u001b[1;36m224\u001b[0m\u001b[1;33m,\u001b[0m \u001b[1;36m224\u001b[0m\u001b[1;33m)\u001b[0m\u001b[1;33m]\u001b[0m\u001b[1;33m)\u001b[0m\u001b[1;33m\u001b[0m\u001b[1;33m\u001b[0m\u001b[0m\n\u001b[0m\u001b[0;32m      2\u001b[0m \u001b[1;33m\u001b[0m\u001b[0m\n\u001b[0;32m      3\u001b[0m \u001b[0mlayers_names\u001b[0m \u001b[1;33m=\u001b[0m \u001b[0mnet\u001b[0m\u001b[1;33m.\u001b[0m\u001b[0mgetLayerNames\u001b[0m\u001b[1;33m(\u001b[0m\u001b[1;33m)\u001b[0m\u001b[1;33m\u001b[0m\u001b[1;33m\u001b[0m\u001b[0m\n\u001b[0;32m      4\u001b[0m \u001b[1;33m\u001b[0m\u001b[0m\n\u001b[0;32m      5\u001b[0m \u001b[0mprint\u001b[0m\u001b[1;33m(\u001b[0m\u001b[1;34m'Net layers shapes:'\u001b[0m\u001b[1;33m)\u001b[0m\u001b[1;33m\u001b[0m\u001b[1;33m\u001b[0m\u001b[0m\n",
      "\u001b[1;31mSystemError\u001b[0m: <method 'getLayersShapes' of 'cv2.dnn_Net' objects> returned NULL without setting an error"
     ]
    }
   ],
   "source": [
    "layers_ids, in_shapes, out_shapes = net.getLayersShapes([1, 1, 224, 224])\n",
    "\n",
    "layers_names = net.getLayerNames()\n",
    "\n",
    "print('Net layers shapes:')\n",
    "for l in range(len(layers_names)):\n",
    "    in_num, out_num = len(in_shapes[l]), len(out_shapes[l])\n",
    "    print('Layer \"%s\" has %d input(s) and %d output(s)'\n",
    "        % (layers_names[l], in_num, out_num))\n",
    "    for i in range(in_num):\n",
    "        print('\\tinput #%d has shape' % i, in_shapes[l][i].flatten())\n",
    "\n",
    "    for i in range(out_num):\n",
    "        print('\\toutput #%d has shape' % i, out_shapes[l][i].flatten())"
   ]
  },
  {
   "cell_type": "code",
   "execution_count": 69,
   "id": "743cf9d5",
   "metadata": {},
   "outputs": [
    {
     "name": "stdout",
     "output_type": "stream",
     "text": [
      "Net layers shapes:\n",
      "Layer \"conv1_1\"\n",
      "Layer \"relu1_1\"\n",
      "Layer \"conv1_2\"\n",
      "Layer \"relu1_2\"\n",
      "Layer \"conv1_2norm\"\n",
      "Layer \"conv2_1\"\n",
      "Layer \"relu2_1\"\n",
      "Layer \"conv2_2\"\n",
      "Layer \"relu2_2\"\n",
      "Layer \"conv2_2norm\"\n",
      "Layer \"conv3_1\"\n",
      "Layer \"relu3_1\"\n",
      "Layer \"conv3_2\"\n",
      "Layer \"relu3_2\"\n",
      "Layer \"conv3_3\"\n",
      "Layer \"relu3_3\"\n",
      "Layer \"conv3_3norm\"\n",
      "Layer \"conv4_1\"\n",
      "Layer \"relu4_1\"\n",
      "Layer \"conv4_2\"\n",
      "Layer \"relu4_2\"\n",
      "Layer \"conv4_3\"\n",
      "Layer \"relu4_3\"\n",
      "Layer \"conv4_3norm\"\n",
      "Layer \"conv5_1\"\n",
      "Layer \"relu5_1\"\n",
      "Layer \"conv5_2\"\n",
      "Layer \"relu5_2\"\n",
      "Layer \"conv5_3\"\n",
      "Layer \"relu5_3\"\n",
      "Layer \"conv5_3norm\"\n",
      "Layer \"conv6_1\"\n",
      "Layer \"relu6_1\"\n",
      "Layer \"conv6_2\"\n",
      "Layer \"relu6_2\"\n",
      "Layer \"conv6_3\"\n",
      "Layer \"relu6_3\"\n",
      "Layer \"conv6_3norm\"\n",
      "Layer \"conv7_1\"\n",
      "Layer \"relu7_1\"\n",
      "Layer \"conv7_2\"\n",
      "Layer \"relu7_2\"\n",
      "Layer \"conv7_3\"\n",
      "Layer \"relu7_3\"\n",
      "Layer \"conv7_3norm\"\n",
      "Layer \"conv8_1\"\n",
      "Layer \"relu8_1\"\n",
      "Layer \"conv8_2\"\n",
      "Layer \"relu8_2\"\n",
      "Layer \"conv8_3\"\n",
      "Layer \"relu8_3\"\n",
      "Layer \"conv8_313\"\n",
      "Layer \"conv8_313_rh\"\n",
      "Layer \"class8_313_rh\"\n",
      "Layer \"class8_ab\"\n",
      "Layer \"Silence\"\n"
     ]
    }
   ],
   "source": [
    "layers_names = net.getLayerNames()\n",
    "\n",
    "print('Net layers shapes:')\n",
    "for l in range(len(layers_names)):\n",
    "    print('Layer \"%s\"'\n",
    "        % (layers_names[l]))"
   ]
  },
  {
   "cell_type": "code",
   "execution_count": 21,
   "id": "0daaaa5a",
   "metadata": {},
   "outputs": [],
   "source": [
    "files = fileselect.files\n",
    "image = cv2.imread(files[0], cv2.IMREAD_COLOR)\n",
    "tensor = cv2.dnn.blobFromImage(image, 1.0, (224, 224),(104, 117, 123), False, False)\n"
   ]
  },
  {
   "cell_type": "code",
   "execution_count": 22,
   "id": "bc3ef4ad",
   "metadata": {},
   "outputs": [],
   "source": [
    "tensor = cv2.dnn.blobFromImages([image, image], 1.0, (224, 224),(104, 117, 123), False, True);\n"
   ]
  },
  {
   "cell_type": "code",
   "execution_count": 23,
   "id": "aa8087d7",
   "metadata": {},
   "outputs": [
    {
     "ename": "error",
     "evalue": "OpenCV(4.5.1) C:\\Users\\appveyor\\AppData\\Local\\Temp\\1\\pip-req-build-wvn_it83\\opencv\\modules\\dnn\\src\\layers\\convolution_layer.cpp:381: error: (-215:Assertion failed) ngroups > 0 && inpCn % ngroups == 0 && outCn % ngroups == 0 in function 'cv::dnn::ConvolutionLayerImpl::getMemoryShapes'\n",
     "output_type": "error",
     "traceback": [
      "\u001b[1;31m---------------------------------------------------------------------------\u001b[0m",
      "\u001b[1;31merror\u001b[0m                                     Traceback (most recent call last)",
      "\u001b[1;32m<ipython-input-23-f2d80e376edd>\u001b[0m in \u001b[0;36m<module>\u001b[1;34m\u001b[0m\n\u001b[0;32m      1\u001b[0m \u001b[0mnet\u001b[0m\u001b[1;33m.\u001b[0m\u001b[0msetInput\u001b[0m\u001b[1;33m(\u001b[0m\u001b[0mtensor\u001b[0m\u001b[1;33m)\u001b[0m\u001b[1;33m;\u001b[0m\u001b[1;33m\u001b[0m\u001b[1;33m\u001b[0m\u001b[0m\n\u001b[1;32m----> 2\u001b[1;33m \u001b[0mprob\u001b[0m \u001b[1;33m=\u001b[0m \u001b[0mnet\u001b[0m\u001b[1;33m.\u001b[0m\u001b[0mforward\u001b[0m\u001b[1;33m(\u001b[0m\u001b[1;33m)\u001b[0m\u001b[1;33m;\u001b[0m\u001b[1;33m\u001b[0m\u001b[1;33m\u001b[0m\u001b[0m\n\u001b[0m",
      "\u001b[1;31merror\u001b[0m: OpenCV(4.5.1) C:\\Users\\appveyor\\AppData\\Local\\Temp\\1\\pip-req-build-wvn_it83\\opencv\\modules\\dnn\\src\\layers\\convolution_layer.cpp:381: error: (-215:Assertion failed) ngroups > 0 && inpCn % ngroups == 0 && outCn % ngroups == 0 in function 'cv::dnn::ConvolutionLayerImpl::getMemoryShapes'\n"
     ]
    }
   ],
   "source": [
    "net.setInput(tensor);\n",
    "prob = net.forward();"
   ]
  },
  {
   "cell_type": "code",
   "execution_count": null,
   "id": "b2efa43d",
   "metadata": {},
   "outputs": [],
   "source": []
  }
 ],
 "metadata": {
  "kernelspec": {
   "display_name": "Python 3",
   "language": "python",
   "name": "python3"
  },
  "language_info": {
   "codemirror_mode": {
    "name": "ipython",
    "version": 3
   },
   "file_extension": ".py",
   "mimetype": "text/x-python",
   "name": "python",
   "nbconvert_exporter": "python",
   "pygments_lexer": "ipython3",
   "version": "3.9.4"
  }
 },
 "nbformat": 4,
 "nbformat_minor": 5
}
