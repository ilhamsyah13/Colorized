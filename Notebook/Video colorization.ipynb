{
 "cells": [
  {
   "cell_type": "code",
   "execution_count": null,
   "id": "955b3528",
   "metadata": {},
   "outputs": [],
   "source": [
    "import numpy as np \n",
    "import cv2\n",
    "from matplotlib import pyplot as plt\n",
    "import os"
   ]
  },
  {
   "cell_type": "code",
   "execution_count": 15,
   "id": "c4ae39fc",
   "metadata": {},
   "outputs": [],
   "source": [
    "import numpy as np \n",
    "import cv2\n",
    "net = cv2.dnn.readNetFromCaffe('./model/colorization_deploy_v2.prototxt','./model/colorization_release_v2.caffemodel')\n",
    "pts = np.load('./model/pts_in_hull.npy')\n",
    "\n",
    "\n",
    "class8 = net.getLayerId(\"class8_ab\")\n",
    "conv8 = net.getLayerId(\"conv8_313_rh\")\n",
    "pts = pts.transpose().reshape(2,313,1,1)\n",
    "\n",
    "net.getLayer(class8).blobs = [pts.astype(\"float32\")]\n",
    "net.getLayer(conv8).blobs = [np.full([1,313],2.606,dtype='float32')]"
   ]
  },
  {
   "cell_type": "code",
   "execution_count": null,
   "id": "21be971c",
   "metadata": {},
   "outputs": [],
   "source": [
    "def video(frame):\n",
    "    scaled = frame.astype(\"float32\")/255.0\n",
    "    lab = cv2.cvtColor(scaled,cv2.COLOR_BGR2LAB)\n",
    "\n",
    "    resized = cv2.resize(lab,(224,224))\n",
    "    L = cv2.split(resized)[0]\n",
    "    L -= 50\n",
    "\n",
    "    net.setInput(cv2.dnn.blobFromImage(L))\n",
    "    ab = net.forward()[0, :, :, :].transpose((1,2,0))\n",
    "    ab = cv2.resize(ab, (frame.shape[1],frame.shape[0]))\n",
    "\n",
    "    L = cv2.split(lab)[0]\n",
    "    colorized = np.concatenate((L[:,:,np.newaxis], ab), axis=2)\n",
    "    colorized = cv2.cvtColor(colorized,cv2.COLOR_LAB2BGR)\n",
    "    colorized = np.clip(colorized,0,1)\n",
    "    colorized = (255 * colorized).astype(\"uint8\")\n",
    "    colorized = cv2.resize(colorized, (224, 224)) \n",
    "    return colorized"
   ]
  },
  {
   "cell_type": "code",
   "execution_count": 3,
   "id": "954b16cf",
   "metadata": {},
   "outputs": [
    {
     "data": {
      "text/plain": [
       "'videos\\\\video.mp4'"
      ]
     },
     "execution_count": 3,
     "metadata": {},
     "output_type": "execute_result"
    }
   ],
   "source": [
    "os.path.join('videos', 'video.mp4')"
   ]
  },
  {
   "cell_type": "code",
   "execution_count": 11,
   "id": "a1a3d0ab",
   "metadata": {},
   "outputs": [],
   "source": [
    "cap = cv2.VideoCapture('video.mp4')"
   ]
  },
  {
   "cell_type": "code",
   "execution_count": 24,
   "id": "ef0f17e8",
   "metadata": {},
   "outputs": [],
   "source": [
    "cap = cv2.VideoCapture('output-resize.mp4')"
   ]
  },
  {
   "cell_type": "code",
   "execution_count": null,
   "id": "e8fbc7dd",
   "metadata": {},
   "outputs": [],
   "source": [
    "ret, frame = cap.read()"
   ]
  },
  {
   "cell_type": "code",
   "execution_count": null,
   "id": "8f871094",
   "metadata": {},
   "outputs": [],
   "source": [
    "frame.shape"
   ]
  },
  {
   "cell_type": "code",
   "execution_count": null,
   "id": "263c3533",
   "metadata": {},
   "outputs": [],
   "source": [
    "plt.imshow(cv2.cvtColor(frame,cv2.COLOR_BGR2RGB))\n",
    "plt.show()"
   ]
  },
  {
   "cell_type": "code",
   "execution_count": 25,
   "id": "cfc1befc",
   "metadata": {},
   "outputs": [],
   "source": [
    "width = cap.get(cv2.CAP_PROP_FRAME_WIDTH )\n",
    "height = cap.get(cv2.CAP_PROP_FRAME_HEIGHT )\n",
    "fps =  cap.get(cv2.CAP_PROP_FPS)"
   ]
  },
  {
   "cell_type": "code",
   "execution_count": 26,
   "id": "d3ad0d39",
   "metadata": {},
   "outputs": [
    {
     "name": "stdout",
     "output_type": "stream",
     "text": [
      "width:   224\n",
      "height:  224\n",
      "channel: 3\n"
     ]
    }
   ],
   "source": [
    "h, w, c = frame.shape\n",
    "print('width:  ', w)\n",
    "print('height: ', h)\n",
    "print('channel:', c)\n",
    "# width:   400\n",
    "# height:  225\n",
    "# channel: 3"
   ]
  },
  {
   "cell_type": "code",
   "execution_count": 16,
   "id": "bee8c19a",
   "metadata": {},
   "outputs": [
    {
     "data": {
      "text/plain": [
       "25.0"
      ]
     },
     "execution_count": 16,
     "metadata": {},
     "output_type": "execute_result"
    }
   ],
   "source": [
    "cap.get(cv2.CAP_PROP_FPS)"
   ]
  },
  {
   "cell_type": "code",
   "execution_count": 2,
   "id": "e7109694",
   "metadata": {},
   "outputs": [],
   "source": [
    "cap = cv2.VideoCapture('video.mp4')\n",
    "\n",
    "for frame_idx in range(int(cap.get(cv2.CAP_PROP_FRAME_COUNT))):\n",
    "    ret, frame = cap.read()\n",
    "    cv2.imshow(\"Video Player\", frame)\n",
    "    if cv2.waitKey(10) & 0xFF == ord('q'):\n",
    "        break\n",
    "\n",
    "cap.release()\n",
    "cv2.destroyAllWindows()"
   ]
  },
  {
   "cell_type": "code",
   "execution_count": 32,
   "id": "8e9333f8",
   "metadata": {},
   "outputs": [],
   "source": [
    "cap = cv2.VideoCapture('output-resize.mp4')\n",
    "height = int(cap.get(cv2.CAP_PROP_FRAME_HEIGHT))\n",
    "width = int(cap.get(cv2.CAP_PROP_FRAME_WIDTH))\n",
    "fps = cap.get(cv2.CAP_PROP_FPS)\n",
    "video_writer = cv2.VideoWriter(os.path.join('output.mp4'), cv2.VideoWriter_fourcc('P','I','M','1'), 15, (224, 224), isColor=False) \n",
    "                                                                                        \n",
    "for frame_idx in range(300):\n",
    "    \n",
    "    ret, frame = cap.read()\n",
    "\n",
    "    colorized = video(frame)\n",
    "\n",
    "    video_writer.write(colorized)\n",
    "    \n",
    "    if cv2.waitKey(10) & 0xFF == ord('q'):\n",
    "        break\n",
    "\n",
    "cap.release()\n",
    "cv2.destroyAllWindows()\n",
    "video_writer.release()"
   ]
  },
  {
   "cell_type": "code",
   "execution_count": 26,
   "id": "698b196e",
   "metadata": {},
   "outputs": [],
   "source": [
    "cap = cv2.VideoCapture('video.mp4')\n",
    "fps = cap.get(cv2.CAP_PROP_FPS)\n",
    "fourcc = cv2.VideoWriter_fourcc(*'XVID')\n",
    "out = cv2.VideoWriter('output-resize.mp4',fourcc, fps, (224,224))\n",
    "\n",
    "for frame_idx in range(int(cap.get(cv2.CAP_PROP_FRAME_COUNT))):\n",
    "    ret, frame = cap.read()\n",
    "    if ret == True:\n",
    "        b = cv2.resize(frame,(224,224),fx=0,fy=0, interpolation = cv2.INTER_CUBIC)\n",
    "        out.write(b)\n",
    "    else:\n",
    "        break\n",
    "    \n",
    "cap.release()\n",
    "out.release()\n",
    "cv2.destroyAllWindows()"
   ]
  },
  {
   "cell_type": "code",
   "execution_count": null,
   "id": "21676bbe",
   "metadata": {},
   "outputs": [],
   "source": []
  }
 ],
 "metadata": {
  "kernelspec": {
   "display_name": "Python 3",
   "language": "python",
   "name": "python3"
  },
  "language_info": {
   "codemirror_mode": {
    "name": "ipython",
    "version": 3
   },
   "file_extension": ".py",
   "mimetype": "text/x-python",
   "name": "python",
   "nbconvert_exporter": "python",
   "pygments_lexer": "ipython3",
   "version": "3.9.4"
  }
 },
 "nbformat": 4,
 "nbformat_minor": 5
}
